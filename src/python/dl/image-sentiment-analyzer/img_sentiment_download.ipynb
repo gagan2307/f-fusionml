{
 "cells": [
  {
   "cell_type": "code",
   "execution_count": 2,
   "metadata": {},
   "outputs": [
    {
     "data": {
      "application/vnd.jupyter.widget-view+json": {
       "model_id": "854531c7bf054b73903407a43be02a38",
       "version_major": 2,
       "version_minor": 0
      },
      "text/plain": [
       "preprocessor_config.json:   0%|          | 0.00/228 [00:00<?, ?B/s]"
      ]
     },
     "metadata": {},
     "output_type": "display_data"
    },
    {
     "name": "stderr",
     "output_type": "stream",
     "text": [
      "c:\\Users\\Harsh\\AppData\\Local\\Programs\\Python\\Python312\\Lib\\site-packages\\transformers\\models\\vit\\feature_extraction_vit.py:28: FutureWarning: The class ViTFeatureExtractor is deprecated and will be removed in version 5 of Transformers. Please use ViTImageProcessor instead.\n",
      "  warnings.warn(\n"
     ]
    },
    {
     "data": {
      "application/vnd.jupyter.widget-view+json": {
       "model_id": "4c7878a52386444d92e88414c4e82771",
       "version_major": 2,
       "version_minor": 0
      },
      "text/plain": [
       "model.safetensors:   0%|          | 0.00/343M [00:00<?, ?B/s]"
      ]
     },
     "metadata": {},
     "output_type": "display_data"
    },
    {
     "name": "stderr",
     "output_type": "stream",
     "text": [
      "Some weights of ViTModel were not initialized from the model checkpoint at trpakov/vit-face-expression and are newly initialized: ['vit.pooler.dense.bias', 'vit.pooler.dense.weight']\n",
      "You should probably TRAIN this model on a down-stream task to be able to use it for predictions and inference.\n"
     ]
    },
    {
     "name": "stdout",
     "output_type": "stream",
     "text": [
      "Model and feature extractor have been downloaded and saved to ./local_image_analyzer_model\n"
     ]
    }
   ],
   "source": [
    "from transformers import AutoModel, AutoFeatureExtractor\n",
    "\n",
    "# Specify the local directory where you want to save the model and feature extractor\n",
    "model_name = \"trpakov/vit-face-expression\"\n",
    "local_model_dir = \"./local_image_analyzer_model\"\n",
    "\n",
    "# Download and save the feature extractor (used instead of tokenizer for image models)\n",
    "feature_extractor = AutoFeatureExtractor.from_pretrained(model_name)\n",
    "feature_extractor.save_pretrained(local_model_dir)\n",
    "\n",
    "# Download and save the model (for vision models, use AutoModel instead of Seq2Seq)\n",
    "model = AutoModel.from_pretrained(model_name)\n",
    "model.save_pretrained(local_model_dir)\n",
    "\n",
    "print(f\"Model and feature extractor have been downloaded and saved to {local_model_dir}\")\n"
   ]
  },
  {
   "cell_type": "code",
   "execution_count": null,
   "metadata": {},
   "outputs": [],
   "source": []
  }
 ],
 "metadata": {
  "kernelspec": {
   "display_name": "Python 3",
   "language": "python",
   "name": "python3"
  },
  "language_info": {
   "codemirror_mode": {
    "name": "ipython",
    "version": 3
   },
   "file_extension": ".py",
   "mimetype": "text/x-python",
   "name": "python",
   "nbconvert_exporter": "python",
   "pygments_lexer": "ipython3",
   "version": "3.12.2"
  }
 },
 "nbformat": 4,
 "nbformat_minor": 2
}
