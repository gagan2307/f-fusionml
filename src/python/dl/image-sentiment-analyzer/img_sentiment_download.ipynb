{
 "cells": [
  {
   "cell_type": "code",
   "execution_count": null,
   "metadata": {},
   "outputs": [
    {
     "name": "stderr",
     "output_type": "stream",
     "text": [
      "c:\\Python311\\Lib\\site-packages\\transformers\\models\\vit\\feature_extraction_vit.py:28: FutureWarning: The class ViTFeatureExtractor is deprecated and will be removed in version 5 of Transformers. Please use ViTImageProcessor instead.\n",
      "  warnings.warn(\n",
      "Some weights of ViTModel were not initialized from the model checkpoint at trpakov/vit-face-expression and are newly initialized: ['vit.pooler.dense.bias', 'vit.pooler.dense.weight']\n",
      "You should probably TRAIN this model on a down-stream task to be able to use it for predictions and inference.\n"
     ]
    },
    {
     "name": "stdout",
     "output_type": "stream",
     "text": [
      "Model and feature extractor have been downloaded and saved to ./local_image_analyzer_model\n"
     ]
    }
   ],
   "source": [
    "# from transformers import AutoModel, AutoFeatureExtractor\n",
    "\n",
    "# # Specify the local directory where you want to save the model and feature extractor\n",
    "# model_name = \"trpakov/vit-face-expression\"\n",
    "# local_model_dir = \"./local_image_analyzer_model\"\n",
    "\n",
    "# # Download and save the feature extractor (used instead of tokenizer for image models)\n",
    "# feature_extractor = AutoFeatureExtractor.from_pretrained(model_name)\n",
    "# feature_extractor.save_pretrained(local_model_dir)\n",
    "\n",
    "# # Download and save the model (for vision models, use AutoModel instead of Seq2Seq)\n",
    "# model = AutoModel.from_pretrained(model_name)\n",
    "# model.save_pretrained(local_model_dir)\n",
    "\n",
    "# print(f\"Model and feature extractor have been downloaded and saved to {local_model_dir}\")\n"
   ]
  },
  {
   "cell_type": "code",
   "execution_count": null,
   "metadata": {},
   "outputs": [
    {
     "data": {
      "application/vnd.jupyter.widget-view+json": {
       "model_id": "1b449fbbcfb84facae076c443ad2bb6a",
       "version_major": 2,
       "version_minor": 0
      },
      "text/plain": [
       "preprocessor_config.json:   0%|          | 0.00/325 [00:00<?, ?B/s]"
      ]
     },
     "metadata": {},
     "output_type": "display_data"
    },
    {
     "name": "stderr",
     "output_type": "stream",
     "text": [
      "c:\\Python311\\Lib\\site-packages\\huggingface_hub\\file_download.py:157: UserWarning: `huggingface_hub` cache-system uses symlinks by default to efficiently store duplicated files but your machine does not support them in C:\\Users\\Harsh\\.cache\\huggingface\\hub\\models--motheecreator--vit-Facial-Expression-Recognition. Caching files will still work but in a degraded version that might require more space on your disk. This warning can be disabled by setting the `HF_HUB_DISABLE_SYMLINKS_WARNING` environment variable. For more details, see https://huggingface.co/docs/huggingface_hub/how-to-cache#limitations.\n",
      "To support symlinks on Windows, you either need to activate Developer Mode or to run Python as an administrator. In order to see activate developer mode, see this article: https://docs.microsoft.com/en-us/windows/apps/get-started/enable-your-device-for-development\n",
      "  warnings.warn(message)\n"
     ]
    },
    {
     "data": {
      "application/vnd.jupyter.widget-view+json": {
       "model_id": "790bf4dcbbf646cca3c4545bb68ef788",
       "version_major": 2,
       "version_minor": 0
      },
      "text/plain": [
       "config.json:   0%|          | 0.00/915 [00:00<?, ?B/s]"
      ]
     },
     "metadata": {},
     "output_type": "display_data"
    },
    {
     "data": {
      "application/vnd.jupyter.widget-view+json": {
       "model_id": "43e6f12fdbb142b2b05230b25645f3d1",
       "version_major": 2,
       "version_minor": 0
      },
      "text/plain": [
       "model.safetensors:   0%|          | 0.00/343M [00:00<?, ?B/s]"
      ]
     },
     "metadata": {},
     "output_type": "display_data"
    },
    {
     "name": "stdout",
     "output_type": "stream",
     "text": [
      "Model and image processor have been downloaded and saved to ./local_image_analyzer_model\n"
     ]
    }
   ],
   "source": [
    "# from transformers import AutoImageProcessor, AutoModelForImageClassification\n",
    "\n",
    "# # Specify the model name and local directory\n",
    "# model_name = \"motheecreator/vit-Facial-Expression-Recognition\"\n",
    "# local_model_dir = \"./local_image_analyzer_model\"\n",
    "\n",
    "# # Download and save the image processor\n",
    "# processor = AutoImageProcessor.from_pretrained(model_name)\n",
    "# processor.save_pretrained(local_model_dir)\n",
    "\n",
    "# # Download and save the model\n",
    "# model = AutoModelForImageClassification.from_pretrained(model_name)\n",
    "# model.save_pretrained(local_model_dir)\n",
    "\n",
    "# print(f\"Model and image processor have been downloaded and saved to {local_model_dir}\")\n"
   ]
  },
  {
   "cell_type": "code",
   "execution_count": null,
   "metadata": {},
   "outputs": [
    {
     "data": {
      "application/vnd.jupyter.widget-view+json": {
       "model_id": "71394177f110401db19694849373406d",
       "version_major": 2,
       "version_minor": 0
      },
      "text/plain": [
       "preprocessor_config.json:   0%|          | 0.00/325 [00:00<?, ?B/s]"
      ]
     },
     "metadata": {},
     "output_type": "display_data"
    },
    {
     "name": "stderr",
     "output_type": "stream",
     "text": [
      "c:\\Python311\\Lib\\site-packages\\huggingface_hub\\file_download.py:157: UserWarning: `huggingface_hub` cache-system uses symlinks by default to efficiently store duplicated files but your machine does not support them in C:\\Users\\Harsh\\.cache\\huggingface\\hub\\models--carlosleao--RAFDB-Facial-Expression-Recognition. Caching files will still work but in a degraded version that might require more space on your disk. This warning can be disabled by setting the `HF_HUB_DISABLE_SYMLINKS_WARNING` environment variable. For more details, see https://huggingface.co/docs/huggingface_hub/how-to-cache#limitations.\n",
      "To support symlinks on Windows, you either need to activate Developer Mode or to run Python as an administrator. In order to see activate developer mode, see this article: https://docs.microsoft.com/en-us/windows/apps/get-started/enable-your-device-for-development\n",
      "  warnings.warn(message)\n"
     ]
    },
    {
     "data": {
      "application/vnd.jupyter.widget-view+json": {
       "model_id": "68b2731708a9471a82f4e79dc1c8108b",
       "version_major": 2,
       "version_minor": 0
      },
      "text/plain": [
       "config.json:   0%|          | 0.00/931 [00:00<?, ?B/s]"
      ]
     },
     "metadata": {},
     "output_type": "display_data"
    },
    {
     "data": {
      "application/vnd.jupyter.widget-view+json": {
       "model_id": "0618dcc0418d49aa99ff23430d590a31",
       "version_major": 2,
       "version_minor": 0
      },
      "text/plain": [
       "model.safetensors:   0%|          | 0.00/343M [00:00<?, ?B/s]"
      ]
     },
     "metadata": {},
     "output_type": "display_data"
    },
    {
     "name": "stdout",
     "output_type": "stream",
     "text": [
      "Model and image processor have been downloaded and saved to ./local_image_analyzer_model\n"
     ]
    }
   ],
   "source": [
    "# from transformers import AutoImageProcessor, AutoModelForImageClassification\n",
    "\n",
    "# # Specify the model name and local directory\n",
    "# model_name = \"carlosleao/RAFDB-Facial-Expression-Recognition\"\n",
    "# local_model_dir = \"./local_image_analyzer_model\"\n",
    "\n",
    "# # Download and save the image processor\n",
    "# processor = AutoImageProcessor.from_pretrained(model_name)\n",
    "# processor.save_pretrained(local_model_dir)\n",
    "\n",
    "# # Download and save the model\n",
    "# model = AutoModelForImageClassification.from_pretrained(model_name)\n",
    "# model.save_pretrained(local_model_dir)\n",
    "\n",
    "# print(f\"Model and image processor have been downloaded and saved to {local_model_dir}\")\n"
   ]
  },
  {
   "cell_type": "code",
   "execution_count": 3,
   "metadata": {},
   "outputs": [
    {
     "name": "stdout",
     "output_type": "stream",
     "text": [
      "Model and image processor have been downloaded and saved to ./local_image_analyzer_model\n"
     ]
    }
   ],
   "source": [
    "from transformers import AutoImageProcessor, AutoModelForImageClassification\n",
    "\n",
    "# Specify the model name and local directory\n",
    "model_name = \"trpakov/vit-face-expression\"\n",
    "local_model_dir = \"./local_image_analyzer_model\"\n",
    "\n",
    "# Download and save the image processor\n",
    "processor = AutoImageProcessor.from_pretrained(model_name)\n",
    "processor.save_pretrained(local_model_dir)\n",
    "\n",
    "# Download and save the model\n",
    "model = AutoModelForImageClassification.from_pretrained(model_name)\n",
    "model.save_pretrained(local_model_dir)\n",
    "\n",
    "print(f\"Model and image processor have been downloaded and saved to {local_model_dir}\")\n"
   ]
  },
  {
   "cell_type": "code",
   "execution_count": null,
   "metadata": {},
   "outputs": [],
   "source": []
  }
 ],
 "metadata": {
  "kernelspec": {
   "display_name": "Python 3",
   "language": "python",
   "name": "python3"
  },
  "language_info": {
   "codemirror_mode": {
    "name": "ipython",
    "version": 3
   },
   "file_extension": ".py",
   "mimetype": "text/x-python",
   "name": "python",
   "nbconvert_exporter": "python",
   "pygments_lexer": "ipython3",
   "version": "3.11.5"
  }
 },
 "nbformat": 4,
 "nbformat_minor": 2
}
