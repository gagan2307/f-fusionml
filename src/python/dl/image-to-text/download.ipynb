{
 "cells": [
  {
   "cell_type": "code",
   "execution_count": 2,
   "metadata": {},
   "outputs": [
    {
     "name": "stderr",
     "output_type": "stream",
     "text": [
      "c:\\Python311\\Lib\\site-packages\\huggingface_hub\\file_download.py:1132: FutureWarning: `resume_download` is deprecated and will be removed in version 1.0.0. Downloads always resume when possible. If you want to force a new download, use `force_download=True`.\n",
      "  warnings.warn(\n"
     ]
    },
    {
     "name": "stdout",
     "output_type": "stream",
     "text": [
      "Model and processor saved to ./blip_image_caption_model\n"
     ]
    }
   ],
   "source": [
    "# download_image_caption_model.ipynb\n",
    "\n",
    "# Install transformers and torch if not already installed\n",
    "# !pip install transformers torch pillow\n",
    "\n",
    "from transformers import BlipProcessor, BlipForConditionalGeneration\n",
    "\n",
    "# Specify the local directory where the model will be saved\n",
    "local_model_dir = \"./blip_image_caption_model\"\n",
    "\n",
    "# Download and save the processor locally\n",
    "processor = BlipProcessor.from_pretrained(\"Salesforce/blip-image-captioning-large\")\n",
    "processor.save_pretrained(local_model_dir)\n",
    "\n",
    "# Download and save the model locally\n",
    "model = BlipForConditionalGeneration.from_pretrained(\"Salesforce/blip-image-captioning-large\")\n",
    "model.save_pretrained(local_model_dir)\n",
    "\n",
    "print(f\"Model and processor saved to {local_model_dir}\")\n"
   ]
  },
  {
   "cell_type": "code",
   "execution_count": 4,
   "metadata": {},
   "outputs": [
    {
     "name": "stdout",
     "output_type": "stream",
     "text": [
      "Generated Caption: there is a large plume of smoke coming out of the sky\n"
     ]
    }
   ],
   "source": [
    "# image_captioning_test.ipynb\n",
    "\n",
    "# Install necessary packages\n",
    "# You can uncomment and run the following line if transformers, torch, or pillow are not installed\n",
    "# !pip install transformers torch pillow\n",
    "\n",
    "from transformers import BlipProcessor, BlipForConditionalGeneration\n",
    "import torch\n",
    "from PIL import Image\n",
    "import matplotlib.pyplot as plt\n",
    "\n",
    "# Load the processor and model\n",
    "processor = BlipProcessor.from_pretrained('Salesforce/blip-image-captioning-large')\n",
    "model = BlipForConditionalGeneration.from_pretrained('Salesforce/blip-image-captioning-large')\n",
    "\n",
    "# Set the model to evaluation mode\n",
    "model.eval()\n",
    "\n",
    "# Optionally, move the model to GPU if available\n",
    "device = torch.device('cuda' if torch.cuda.is_available() else 'cpu')\n",
    "model.to(device)\n",
    "\n",
    "# Load an image\n",
    "image_path = './sandstorm2.jpg'  # Replace with your image path\n",
    "\n",
    "try:\n",
    "    image = Image.open(image_path).convert('RGB')\n",
    "except FileNotFoundError:\n",
    "    print(f\"Error: Image file '{image_path}' not found.\")\n",
    "    # You can provide a default image or exit\n",
    "    # For now, we'll exit\n",
    "    import sys\n",
    "    sys.exit(1)\n",
    "\n",
    "# Prepare inputs\n",
    "inputs = processor(images=image, return_tensors=\"pt\").to(device)\n",
    "\n",
    "# Generate caption\n",
    "with torch.no_grad():\n",
    "    output = model.generate(**inputs, max_length=50, num_beams=5)\n",
    "    caption = processor.decode(output[0], skip_special_tokens=True)\n",
    "\n",
    "# Display the image and caption\n",
    "# plt.imshow(image)\n",
    "# plt.axis('off')\n",
    "# plt.title(caption, fontsize=16)\n",
    "# plt.show()\n",
    "\n",
    "print(\"Generated Caption:\", caption)\n"
   ]
  },
  {
   "cell_type": "code",
   "execution_count": null,
   "metadata": {},
   "outputs": [],
   "source": []
  }
 ],
 "metadata": {
  "kernelspec": {
   "display_name": "Python 3",
   "language": "python",
   "name": "python3"
  },
  "language_info": {
   "codemirror_mode": {
    "name": "ipython",
    "version": 3
   },
   "file_extension": ".py",
   "mimetype": "text/x-python",
   "name": "python",
   "nbconvert_exporter": "python",
   "pygments_lexer": "ipython3",
   "version": "3.11.5"
  }
 },
 "nbformat": 4,
 "nbformat_minor": 2
}
